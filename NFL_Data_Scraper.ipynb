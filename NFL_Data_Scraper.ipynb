{
 "cells": [
  {
   "cell_type": "code",
   "execution_count": null,
   "metadata": {},
   "outputs": [],
   "source": []
  },
  {
   "cell_type": "markdown",
   "metadata": {},
   "source": [
    "# NFL Data Scraping Project\n",
    "This is a notebook that will describe the web scraping process for NFL team statistics"
   ]
  },
  {
   "cell_type": "markdown",
   "metadata": {},
   "source": [
    "To start we need to figure out what information and where to find that information. For this project I want to analyze how regular season statistics for a team impact their performance during the regular season and in the playoffs.\n",
    "- To find the regular season statistics I will be using the information provided by the NFL here: **https://www.nfl.com/stats/team-stats/**\n",
    "- To find the win and loss information for teams I used information from this link: **https://www.teamrankings.com/nfl/trends/win_trends/**\n",
    "\n",
    "Let's start by gathering the win loss data"
   ]
  },
  {
   "cell_type": "markdown",
   "metadata": {},
   "source": [
    "### Packages\n",
    "For this project I will be using selenium and using beautiful soup to conduct web scraping."
   ]
  },
  {
   "cell_type": "code",
   "execution_count": 33,
   "metadata": {},
   "outputs": [
    {
     "name": "stdout",
     "output_type": "stream",
     "text": [
      "             Team Win-Loss Record  Win %    MOV ATS +/-\n",
      "0    Philadelphia           8-1-0  88.9%    6.3    +1.2\n",
      "1     Kansas City           7-2-0  77.8%    7.2    +1.1\n",
      "2         Detroit           7-2-0  77.8%    4.2    +1.5\n",
      "3       Baltimore           7-3-0  70.0%   11.3    +6.3\n",
      "4         Seattle           6-3-0  66.7%   -0.1    -2.0\n",
      "5           Miami           6-3-0  66.7%    6.7    +3.2\n",
      "6   San Francisco           6-3-0  66.7%   12.1    +5.4\n",
      "7       Cleveland           6-3-0  66.7%    4.9    +4.7\n",
      "8          Dallas           6-3-0  66.7%   11.6    +6.3\n",
      "9      Pittsburgh           6-3-0  66.7%   -2.9    -2.1\n",
      "10   Jacksonville           6-3-0  66.7%    0.7    -0.1\n",
      "11      Minnesota           6-4-0  60.0%    2.4    +3.6\n",
      "12     Cincinnati           5-4-0  55.6%   -1.1    -3.0\n",
      "13        Houston           5-4-0  55.6%    2.8    +5.3\n",
      "14        Buffalo           5-5-0  50.0%    7.8    +1.7\n",
      "15   Indianapolis           5-5-0  50.0%   -0.6    +1.7\n",
      "16      Las Vegas           5-5-0  50.0%   -3.3    -1.9\n",
      "17    New Orleans           5-5-0  50.0%    1.6    -1.3\n",
      "18        NY Jets           4-5-0  44.4%   -3.1    +0.1\n",
      "19         Denver           4-5-0  44.4%   -5.8    -3.8\n",
      "20      Tampa Bay           4-5-0  44.4%    0.6    +2.9\n",
      "21    LA Chargers           4-5-0  44.4%    2.7    +0.9\n",
      "22        Atlanta           4-6-0  40.0%   -2.8    -3.8\n",
      "23     Washington           4-6-0  40.0%   -5.7    -3.8\n",
      "24        LA Rams           3-6-0  33.3%   -2.9    -1.0\n",
      "25      Green Bay           3-6-0  33.3%   -0.3    +0.8\n",
      "26      Tennessee           3-6-0  33.3%   -2.9    -0.3\n",
      "27        Chicago           3-7-0  30.0%   -5.1    -0.7\n",
      "28    New England           2-8-0  20.0%   -9.7    -7.5\n",
      "29      NY Giants           2-8-0  20.0%  -14.8    -8.5\n",
      "30        Arizona           2-8-0  20.0%   -8.7    -0.6\n",
      "31       Carolina           1-8-0  11.1%   -9.9    -4.7\n"
     ]
    }
   ],
   "source": [
    "from bs4 import BeautifulSoup\n",
    "from requests_html import HTMLSession\n",
    "from urllib.parse import urljoin\n",
    "import requests as r\n",
    "import pandas as pd\n",
    "\n",
    "url = \"https://www.teamrankings.com/nfl/trends/win_trends/?sc=is_regular_season\"\n",
    "response = r.get(url)\n",
    "soup = BeautifulSoup(response.text, 'html.parser')\n",
    "specific_div = soup.find('table') # finding the table with the record of each team\n",
    "rows = specific_div.find_all('tr') # get the rows of data\n",
    "\n",
    "# Now that we have the data as a list of rows, we can parse the data to construct a data frame\n",
    "data = []\n",
    "for row in rows:\n",
    "        cells = row.find_all(['td', 'th'])  # 'td' for regular cells, 'th' for header cells\n",
    "        row_data = [cell.text.strip() for cell in cells] #extract the contents in each cell\n",
    "        data.append(row_data)\n",
    "columns = data[0]\n",
    "df = pd.DataFrame(data[1:], columns=columns)\n",
    "print(df)\n"
   ]
  },
  {
   "cell_type": "markdown",
   "metadata": {},
   "source": [
    "We have now parsed the data for 1 year. The next challenge is to change the filters to get postseason data, and then to change the year filter to get data for each year. When inspecting the html code we can see that there a 'div class=filter' which holds the different filter that we can change. When a year filter is changed the url changes. For examples *https://www.teamrankings.com/nfl/trends/win_trends/?sc=is_regular_season&range=yearly_2022&range=yearly_2022*. Using the final parameter \"&range=yearly_2022\" we can adjust the url to select the year to scrape the data\n"
   ]
  },
  {
   "cell_type": "code",
   "execution_count": 35,
   "metadata": {},
   "outputs": [
    {
     "name": "stdout",
     "output_type": "stream",
     "text": [
      "https://www.teamrankings.com/nfl/trends/win_trends/?sc=is_regular_season&range=yearly_2022&range=yearly_2022\n"
     ]
    }
   ],
   "source": [
    "url = url + \"&range=yearly_\"\n",
    "year = 2022\n",
    "url = url + str(year)\n",
    "print(url)"
   ]
  }
 ],
 "metadata": {
  "kernelspec": {
   "display_name": "Python 3",
   "language": "python",
   "name": "python3"
  },
  "language_info": {
   "codemirror_mode": {
    "name": "ipython",
    "version": 3
   },
   "file_extension": ".py",
   "mimetype": "text/x-python",
   "name": "python",
   "nbconvert_exporter": "python",
   "pygments_lexer": "ipython3",
   "version": "3.11.1"
  }
 },
 "nbformat": 4,
 "nbformat_minor": 2
}
