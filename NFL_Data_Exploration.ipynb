{
 "cells": [
  {
   "attachments": {},
   "cell_type": "markdown",
   "metadata": {},
   "source": [
    "This notebook will be analyzing the NFL Team Data collected."
   ]
  },
  {
   "cell_type": "code",
   "execution_count": 2,
   "metadata": {},
   "outputs": [],
   "source": [
    "import pandas as pd\n",
    "import seaborn as sns\n",
    "import matplotlib as plt"
   ]
  },
  {
   "cell_type": "code",
   "execution_count": 28,
   "metadata": {},
   "outputs": [
    {
     "data": {
      "text/plain": [
       "Index(['Team', 'D-Pass_Att', 'D-Pass_Cmp', 'D-Pass_Cmp%', 'D-Pass_Yds/Att',\n",
       "       'D-Pass_Yds', 'D-Pass_TD', 'D-Pass_INT', 'D-Pass_1st', 'D-Pass_1st%',\n",
       "       'D-Pass_Sck', 'Year', 'D-Rush_Att', 'D-Rush_Yds', 'D-Rush_YPC',\n",
       "       'D-Rush_TD', 'D-Rush_1st', 'D-Rush_1st%', 'O-Rush_Att',\n",
       "       'O-Rush_RushYds', 'O-Rush_YPC', 'O-Rush_TD', 'O-Rush_20+', 'O-Rush_40+',\n",
       "       'O-Rush_Lng', 'O-Rush_1st', 'O-Rush_1st%', 'O-Rush_FUM', 'O-Pass_Att',\n",
       "       'O-Pass_Cmp', 'O-Pass_Cmp%', 'O-Pass_Yds/Att', 'O-Pass_Yds',\n",
       "       'O-Pass_TD', 'O-Pass_INT', 'O-Pass_Rate', 'O-Pass_1st', 'O-Pass_1st%',\n",
       "       'O-Pass_20+', 'O-Pass_40+', 'O-Pass_Lng', 'O-Pass_Sck', 'O-Pass_SckY'],\n",
       "      dtype='object')"
      ]
     },
     "execution_count": 28,
     "metadata": {},
     "output_type": "execute_result"
    }
   ],
   "source": [
    "defense_passing = pd.read_csv('CSV_Data/Defense-Passing.csv')\n",
    "defense_rushing = pd.read_csv('CSV_Data/Defense-Rushing.csv')\n",
    "offense_passing = pd.read_csv('CSV_Data/passing.csv')\n",
    "offense_rushing = pd.read_csv('CSV_Data/rushing.csv')\n",
    "\n",
    "teams_reference = pd.read_csv('CSV_Data/Team_Names_Standardized.csv')\n",
    "teams_reference.head()\n",
    "\n",
    "defense = pd.merge(defense_passing, defense_rushing, on = ['Team', 'Year'])\n",
    "offense = pd.merge(offense_rushing, offense_passing, on = ['Team', 'Year'])\n",
    "\n",
    "total_stats = pd.merge(defense, offense, on = ['Team', 'Year'])\n",
    "total_stats.columns"
   ]
  },
  {
   "cell_type": "code",
   "execution_count": 29,
   "metadata": {},
   "outputs": [
    {
     "data": {
      "text/plain": [
       "Index(['Team', 'D-Pass_Att', 'D-Pass_Cmp', 'D-Pass_Cmp%', 'D-Pass_Yds/Att',\n",
       "       'D-Pass_Yds', 'D-Pass_TD', 'D-Pass_INT', 'D-Pass_1st', 'D-Pass_1st%',\n",
       "       'D-Pass_Sck', 'Year', 'D-Rush_Att', 'D-Rush_Yds', 'D-Rush_YPC',\n",
       "       'D-Rush_TD', 'D-Rush_1st', 'D-Rush_1st%', 'O-Rush_Att',\n",
       "       'O-Rush_RushYds', 'O-Rush_YPC', 'O-Rush_TD', 'O-Rush_20+', 'O-Rush_40+',\n",
       "       'O-Rush_Lng', 'O-Rush_1st', 'O-Rush_1st%', 'O-Rush_FUM', 'O-Pass_Att',\n",
       "       'O-Pass_Cmp', 'O-Pass_Cmp%', 'O-Pass_Yds/Att', 'O-Pass_Yds',\n",
       "       'O-Pass_TD', 'O-Pass_INT', 'O-Pass_Rate', 'O-Pass_1st', 'O-Pass_1st%',\n",
       "       'O-Pass_20+', 'O-Pass_40+', 'O-Pass_Lng', 'O-Pass_Sck', 'O-Pass_SckY',\n",
       "       'Original_Name', 'Team ID', 'Team_City', 'Team_Name'],\n",
       "      dtype='object')"
      ]
     },
     "execution_count": 29,
     "metadata": {},
     "output_type": "execute_result"
    }
   ],
   "source": [
    "x = pd.merge(total_stats, teams_reference, left_on='Team', right_on='Original_Name')\n",
    "x.columns"
   ]
  },
  {
   "cell_type": "code",
   "execution_count": 30,
   "metadata": {},
   "outputs": [],
   "source": [
    "win_loss = pd.read_csv('CSV_Data/Win_Loss.csv')\n",
    "data = pd.merge(x, win_loss, left_on= ['Team_City', 'Year'], right_on=['Team', 'Year'])"
   ]
  },
  {
   "cell_type": "code",
   "execution_count": 32,
   "metadata": {},
   "outputs": [
    {
     "data": {
      "text/plain": [
       "Index(['Team_x', 'D-Pass_Att', 'D-Pass_Cmp', 'D-Pass_Cmp%', 'D-Pass_Yds/Att',\n",
       "       'D-Pass_Yds', 'D-Pass_TD', 'D-Pass_INT', 'D-Pass_1st', 'D-Pass_1st%',\n",
       "       'D-Pass_Sck', 'Year', 'D-Rush_Att', 'D-Rush_Yds', 'D-Rush_YPC',\n",
       "       'D-Rush_TD', 'D-Rush_1st', 'D-Rush_1st%', 'O-Rush_Att',\n",
       "       'O-Rush_RushYds', 'O-Rush_YPC', 'O-Rush_TD', 'O-Rush_20+', 'O-Rush_40+',\n",
       "       'O-Rush_Lng', 'O-Rush_1st', 'O-Rush_1st%', 'O-Rush_FUM', 'O-Pass_Att',\n",
       "       'O-Pass_Cmp', 'O-Pass_Cmp%', 'O-Pass_Yds/Att', 'O-Pass_Yds',\n",
       "       'O-Pass_TD', 'O-Pass_INT', 'O-Pass_Rate', 'O-Pass_1st', 'O-Pass_1st%',\n",
       "       'O-Pass_20+', 'O-Pass_40+', 'O-Pass_Lng', 'O-Pass_Sck', 'O-Pass_SckY',\n",
       "       'Original_Name', 'Team ID', 'Team_City', 'Team_Name', 'Team_y',\n",
       "       'Win-Loss', 'Win%', 'MOV', 'ATS', 'Wins', 'Losses', 'Ties'],\n",
       "      dtype='object')"
      ]
     },
     "execution_count": 32,
     "metadata": {},
     "output_type": "execute_result"
    }
   ],
   "source": [
    "#data.groupby(by = [\"Team_Name\"])['Wins'].sum()\n",
    "# data.groupby(by = [\"Team_Name\"])['Wins'].mean()\n"
   ]
  }
 ],
 "metadata": {
  "kernelspec": {
   "display_name": "Python 3",
   "language": "python",
   "name": "python3"
  },
  "language_info": {
   "codemirror_mode": {
    "name": "ipython",
    "version": 3
   },
   "file_extension": ".py",
   "mimetype": "text/x-python",
   "name": "python",
   "nbconvert_exporter": "python",
   "pygments_lexer": "ipython3",
   "version": "3.11.1"
  },
  "orig_nbformat": 4
 },
 "nbformat": 4,
 "nbformat_minor": 2
}
